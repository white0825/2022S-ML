{
  "nbformat": 4,
  "nbformat_minor": 0,
  "metadata": {
    "colab": {
      "name": "HW3.ipynb",
      "provenance": [],
      "collapsed_sections": [],
      "include_colab_link": true
    },
    "kernelspec": {
      "name": "python3",
      "display_name": "Python 3"
    },
    "language_info": {
      "name": "python"
    }
  },
  "cells": [
    {
      "cell_type": "markdown",
      "metadata": {
        "id": "view-in-github",
        "colab_type": "text"
      },
      "source": [
        "<a href=\"https://colab.research.google.com/github/white0825/2022S-ML/blob/main/HW3.ipynb\" target=\"_parent\"><img src=\"https://colab.research.google.com/assets/colab-badge.svg\" alt=\"Open In Colab\"/></a>"
      ]
    },
    {
      "cell_type": "markdown",
      "source": [
        "# **HW3 :: Parameter Tuning and Classifcation**"
      ],
      "metadata": {
        "id": "m1rbIpJvJD_m"
      }
    },
    {
      "cell_type": "markdown",
      "source": [
        "## 코랩과 구글 드라이브 연동 OR 로컬에서 파일 업로드\n",
        "- 해당 섹션 코드 수정 가능"
      ],
      "metadata": {
        "id": "6c34x6aJI_kE"
      }
    },
    {
      "cell_type": "code",
      "source": [
        "# 연동 OR 파일 업로드\n",
        "# 연동 시 path 설정 주의"
      ],
      "metadata": {
        "id": "PLXjmIbsJMlk"
      },
      "execution_count": 1,
      "outputs": []
    },
    {
      "cell_type": "code",
      "source": [
        "from google.colab import drive\n",
        "drive.mount('/content/drive')"
      ],
      "metadata": {
        "colab": {
          "base_uri": "https://localhost:8080/",
          "height": 345
        },
        "id": "4VXRY6hDJ60i",
        "outputId": "7a718919-86c1-45c9-955d-4fdaf5e02dfd"
      },
      "execution_count": 2,
      "outputs": [
        {
          "output_type": "error",
          "ename": "MessageError",
          "evalue": "ignored",
          "traceback": [
            "\u001b[0;31m---------------------------------------------------------------------------\u001b[0m",
            "\u001b[0;31mMessageError\u001b[0m                              Traceback (most recent call last)",
            "\u001b[0;32m<ipython-input-2-d5df0069828e>\u001b[0m in \u001b[0;36m<module>\u001b[0;34m()\u001b[0m\n\u001b[1;32m      1\u001b[0m \u001b[0;32mfrom\u001b[0m \u001b[0mgoogle\u001b[0m\u001b[0;34m.\u001b[0m\u001b[0mcolab\u001b[0m \u001b[0;32mimport\u001b[0m \u001b[0mdrive\u001b[0m\u001b[0;34m\u001b[0m\u001b[0;34m\u001b[0m\u001b[0m\n\u001b[0;32m----> 2\u001b[0;31m \u001b[0mdrive\u001b[0m\u001b[0;34m.\u001b[0m\u001b[0mmount\u001b[0m\u001b[0;34m(\u001b[0m\u001b[0;34m'/content/drive'\u001b[0m\u001b[0;34m)\u001b[0m\u001b[0;34m\u001b[0m\u001b[0;34m\u001b[0m\u001b[0m\n\u001b[0m",
            "\u001b[0;32m/usr/local/lib/python3.7/dist-packages/google/colab/drive.py\u001b[0m in \u001b[0;36mmount\u001b[0;34m(mountpoint, force_remount, timeout_ms)\u001b[0m\n\u001b[1;32m    107\u001b[0m       \u001b[0mforce_remount\u001b[0m\u001b[0;34m=\u001b[0m\u001b[0mforce_remount\u001b[0m\u001b[0;34m,\u001b[0m\u001b[0;34m\u001b[0m\u001b[0;34m\u001b[0m\u001b[0m\n\u001b[1;32m    108\u001b[0m       \u001b[0mtimeout_ms\u001b[0m\u001b[0;34m=\u001b[0m\u001b[0mtimeout_ms\u001b[0m\u001b[0;34m,\u001b[0m\u001b[0;34m\u001b[0m\u001b[0;34m\u001b[0m\u001b[0m\n\u001b[0;32m--> 109\u001b[0;31m       ephemeral=True)\n\u001b[0m\u001b[1;32m    110\u001b[0m \u001b[0;34m\u001b[0m\u001b[0m\n\u001b[1;32m    111\u001b[0m \u001b[0;34m\u001b[0m\u001b[0m\n",
            "\u001b[0;32m/usr/local/lib/python3.7/dist-packages/google/colab/drive.py\u001b[0m in \u001b[0;36m_mount\u001b[0;34m(mountpoint, force_remount, timeout_ms, ephemeral)\u001b[0m\n\u001b[1;32m    126\u001b[0m   \u001b[0;32mif\u001b[0m \u001b[0mephemeral\u001b[0m\u001b[0;34m:\u001b[0m\u001b[0;34m\u001b[0m\u001b[0;34m\u001b[0m\u001b[0m\n\u001b[1;32m    127\u001b[0m     _message.blocking_request(\n\u001b[0;32m--> 128\u001b[0;31m         'request_auth', request={'authType': 'dfs_ephemeral'}, timeout_sec=None)\n\u001b[0m\u001b[1;32m    129\u001b[0m \u001b[0;34m\u001b[0m\u001b[0m\n\u001b[1;32m    130\u001b[0m   \u001b[0mmountpoint\u001b[0m \u001b[0;34m=\u001b[0m \u001b[0m_os\u001b[0m\u001b[0;34m.\u001b[0m\u001b[0mpath\u001b[0m\u001b[0;34m.\u001b[0m\u001b[0mexpanduser\u001b[0m\u001b[0;34m(\u001b[0m\u001b[0mmountpoint\u001b[0m\u001b[0;34m)\u001b[0m\u001b[0;34m\u001b[0m\u001b[0;34m\u001b[0m\u001b[0m\n",
            "\u001b[0;32m/usr/local/lib/python3.7/dist-packages/google/colab/_message.py\u001b[0m in \u001b[0;36mblocking_request\u001b[0;34m(request_type, request, timeout_sec, parent)\u001b[0m\n\u001b[1;32m    173\u001b[0m   request_id = send_request(\n\u001b[1;32m    174\u001b[0m       request_type, request, parent=parent, expect_reply=True)\n\u001b[0;32m--> 175\u001b[0;31m   \u001b[0;32mreturn\u001b[0m \u001b[0mread_reply_from_input\u001b[0m\u001b[0;34m(\u001b[0m\u001b[0mrequest_id\u001b[0m\u001b[0;34m,\u001b[0m \u001b[0mtimeout_sec\u001b[0m\u001b[0;34m)\u001b[0m\u001b[0;34m\u001b[0m\u001b[0;34m\u001b[0m\u001b[0m\n\u001b[0m",
            "\u001b[0;32m/usr/local/lib/python3.7/dist-packages/google/colab/_message.py\u001b[0m in \u001b[0;36mread_reply_from_input\u001b[0;34m(message_id, timeout_sec)\u001b[0m\n\u001b[1;32m    104\u001b[0m         reply.get('colab_msg_id') == message_id):\n\u001b[1;32m    105\u001b[0m       \u001b[0;32mif\u001b[0m \u001b[0;34m'error'\u001b[0m \u001b[0;32min\u001b[0m \u001b[0mreply\u001b[0m\u001b[0;34m:\u001b[0m\u001b[0;34m\u001b[0m\u001b[0;34m\u001b[0m\u001b[0m\n\u001b[0;32m--> 106\u001b[0;31m         \u001b[0;32mraise\u001b[0m \u001b[0mMessageError\u001b[0m\u001b[0;34m(\u001b[0m\u001b[0mreply\u001b[0m\u001b[0;34m[\u001b[0m\u001b[0;34m'error'\u001b[0m\u001b[0;34m]\u001b[0m\u001b[0;34m)\u001b[0m\u001b[0;34m\u001b[0m\u001b[0;34m\u001b[0m\u001b[0m\n\u001b[0m\u001b[1;32m    107\u001b[0m       \u001b[0;32mreturn\u001b[0m \u001b[0mreply\u001b[0m\u001b[0;34m.\u001b[0m\u001b[0mget\u001b[0m\u001b[0;34m(\u001b[0m\u001b[0;34m'data'\u001b[0m\u001b[0;34m,\u001b[0m \u001b[0;32mNone\u001b[0m\u001b[0;34m)\u001b[0m\u001b[0;34m\u001b[0m\u001b[0;34m\u001b[0m\u001b[0m\n\u001b[1;32m    108\u001b[0m \u001b[0;34m\u001b[0m\u001b[0m\n",
            "\u001b[0;31mMessageError\u001b[0m: Error: credential propagation was unsuccessful"
          ]
        }
      ]
    },
    {
      "cell_type": "markdown",
      "source": [
        "## 데이터 불러오기"
      ],
      "metadata": {
        "id": "HR6Kw9YhJV8A"
      }
    },
    {
      "cell_type": "code",
      "execution_count": 3,
      "metadata": {
        "id": "29BsCuUtKjKA"
      },
      "outputs": [],
      "source": [
        "import numpy as np\n",
        "import pandas as pd"
      ]
    },
    {
      "cell_type": "code",
      "source": [
        "path = 'heart_clean.csv' # 제공된 csv 파일 사용\n",
        "df = pd.read_csv(path)"
      ],
      "metadata": {
        "id": "KCR3D9shItY9"
      },
      "execution_count": 4,
      "outputs": []
    },
    {
      "cell_type": "code",
      "source": [
        "df.head()"
      ],
      "metadata": {
        "colab": {
          "base_uri": "https://localhost:8080/"
        },
        "id": "S9v7sEpoL0jf",
        "outputId": "20bbd852-a99c-48ce-aa87-cfba35c7bf81"
      },
      "execution_count": 51,
      "outputs": [
        {
          "output_type": "execute_result",
          "data": {
            "text/plain": [
              "(710, 6)"
            ]
          },
          "metadata": {},
          "execution_count": 51
        }
      ]
    },
    {
      "cell_type": "markdown",
      "source": [
        "## 데이터 나누기"
      ],
      "metadata": {
        "id": "fZDTxR6wKuPO"
      }
    },
    {
      "cell_type": "markdown",
      "source": [
        "### **주의 사항**\n",
        "train_test_split에 random seed를 사용하여 split set을 고정한다.\n",
        "- 모든 문제에 같은 random seed를 부여할 필요는 없다.\n"
      ],
      "metadata": {
        "id": "h5enxbYKbAhW"
      }
    },
    {
      "cell_type": "code",
      "source": [
        "from sklearn.model_selection import train_test_split\n",
        "\n",
        "X = df.drop('HeartDisease', axis=1)\n",
        "y = df['HeartDisease']\n",
        "  \n",
        "X_train, X_test, y_train, y_test = train_test_split(X, y, test_size=0.1)\n",
        "X_train, X_val, y_train, y_val = train_test_split(X_train, y_train, test_size=1/9)\n",
        "\n",
        "print(\"X_train's shape : \", X_train.shape)\n",
        "print(\"y_train's shape : \", y_train.shape)\n",
        "print(\"\\nX_val's shape : \", X_val.shape)\n",
        "print(\"y_val's shape : \", y_val.shape)\n",
        "print(\"\\nX_test's shape : \", X_test.shape)\n",
        "print(\"y_test's shape : \", y_test.shape)"
      ],
      "metadata": {
        "colab": {
          "base_uri": "https://localhost:8080/"
        },
        "id": "V1zQHUKdKWFz",
        "outputId": "d7c754a1-c879-4aa3-be18-90a5ab6597ef"
      },
      "execution_count": 6,
      "outputs": [
        {
          "output_type": "stream",
          "name": "stdout",
          "text": [
            "X_train's shape :  (568, 5)\n",
            "y_train's shape :  (568,)\n",
            "\n",
            "X_val's shape :  (71, 5)\n",
            "y_val's shape :  (71,)\n",
            "\n",
            "X_test's shape :  (71, 5)\n",
            "y_test's shape :  (71,)\n"
          ]
        }
      ]
    },
    {
      "cell_type": "markdown",
      "source": [
        "\n",
        "\n",
        "---\n",
        "\n"
      ],
      "metadata": {
        "id": "wkJmRTz_jNTP"
      }
    },
    {
      "cell_type": "markdown",
      "source": [
        "## 문제1 KNN\n",
        "\n",
        "\n",
        "\n",
        "- Scikit-learn 라이브러리를 이용하여 KNN의 최적의 파라미터를 찾는다.\n",
        "    - 최근접 이웃을 찾기 위한 거리의 종류로 최소한 두 가지 이상의 거리 척도를 사용한다.\n",
        "    - K값을 최소 3개 이상 비교한다.\n",
        "    - 거리 척도, k값에 따라 train, validation 정확도를 한 그래프로 그린다.(x축 k값, y축 정확도)\n",
        "    - 찾은 최적의 파라미터와 test set 이용하여 test_accuracy 계산하고 기입한다.\n",
        "    - 최적의 파라미터를 찾은 것에 대한 설명을 '텍스트 셀'에 작성한다.\n",
        "\n"
      ],
      "metadata": {
        "id": "P5Gr-LZOLCSP"
      }
    },
    {
      "cell_type": "code",
      "source": [
        "### 문제 1 ###\n",
        "## 코드 작성 ##\n",
        "from sklearn.neighbors import KNeighborsClassifier\n",
        "from sklearn.metrics import accuracy_score\n",
        "from sklearn import datasets, svm, metrics\n",
        "import matplotlib.pyplot as plt\n",
        "\n",
        "Karray=[1,2,3,5,10,20,50,100]\n",
        "score_list1 = []\n",
        "score_list2 = []\n",
        "\n",
        "for i in Karray:\n",
        "  knn = KNeighborsClassifier(n_neighbors=i, p=2, metric='minkowski') #유클라디안\n",
        "\n",
        "  knn.fit(X_train, y_train)\n",
        "\n",
        "  y_pred=knn.predict(X_val)\n",
        "  score = metrics.accuracy_score(y_pred, y_val)\n",
        "  score_list1.append(score)\n",
        "\n",
        "for i in Karray:\n",
        "  knn = KNeighborsClassifier(n_neighbors=i, p=1, metric='minkowski') #맨하턴\n",
        "\n",
        "  knn.fit(X_train, y_train)\n",
        "\n",
        "  y_pred=knn.predict(X_val)\n",
        "  score = metrics.accuracy_score(y_pred, y_val)\n",
        "  score_list2.append(score)\n",
        "\n",
        "plt.plot(Karray,score_list1)\n",
        "plt.plot(Karray,score_list2)\n",
        "\n",
        "plt.legend(['Euclidean','Manhattan'])\n",
        "\n",
        "plt.xlabel('K')\n",
        "plt.ylabel('accuracy')\n",
        "\n",
        "plt.title(\"Graph\")\n",
        "\n",
        "plt.show()\n",
        "\n",
        "#최적의 파라미터로 test set 사용하기\n",
        "\n",
        "knn = KNeighborsClassifier(n_neighbors=5, p=1, metric='minkowski') #맨하턴\n",
        "\n",
        "knn.fit(X_train, y_train)\n",
        "\n",
        "y_pred=knn.predict(X_test)\n",
        "print('accuracy = %.3f' %accuracy_score(y_test,y_pred))\n",
        "\n",
        "\n",
        "\n",
        "\n"
      ],
      "metadata": {
        "id": "ME76ne9cdSMa",
        "colab": {
          "base_uri": "https://localhost:8080/",
          "height": 313
        },
        "outputId": "9470946e-f132-47e7-9ee7-86eb6bd7cbdb"
      },
      "execution_count": null,
      "outputs": [
        {
          "output_type": "display_data",
          "data": {
            "text/plain": [
              "<Figure size 432x288 with 1 Axes>"
            ],
            "image/png": "[encoded data removed]"
          },
          "metadata": {
            "needs_background": "light"
          }
        },
        {
          "output_type": "stream",
          "name": "stdout",
          "text": [
            "accuracy = 0.690\n"
          ]
        }
      ]
    },
    {
      "cell_type": "markdown",
      "source": [
        "**설명 작성**  \n",
        "- 최적의 파라미터: 맨하턴 거리, K=5\n",
        "- 설명:\n",
        "전체적으로 맨하턴 거리척도에서 Accuracy가 높았으며,\n",
        "K=5 일 때 가장 Accuracy가 높았기에 해당 파라미터를 채택하였습니다. "
      ],
      "metadata": {
        "id": "8-BMEqCFdfsR"
      }
    },
    {
      "cell_type": "markdown",
      "source": [
        "\n",
        "\n",
        "---\n",
        "\n"
      ],
      "metadata": {
        "id": "kHaSKoowjPp7"
      }
    },
    {
      "cell_type": "markdown",
      "source": [
        "## 문제2 SVM\n",
        "\n",
        "\n",
        "- Scikit-learn 라이브러리를 이용하여 SVM의 최적의 파라미터를 찾는다.\n",
        "    - Kernel trick 중 최소 두개를 비교한다.\n",
        "    - 최적의 파라미터 C값을 찾는다.\n",
        "    - 파라미터에 따라 train, validation 정확도를 한 그래프로 그린다.(x축 C값, y축 정확도)\n",
        "    - 찾은 최적의 파라미터와 test set을 이용하여 test accuracy를 계산하고 기입한다.\n",
        "    - 최적의 파라미터를 찾은 것에 대한 설명을 '텍스트 셀'에 작성한다.\n"
      ],
      "metadata": {
        "id": "VA0mzbsiaOoH"
      }
    },
    {
      "cell_type": "code",
      "source": [
        "### 문제 2 ###\n",
        "## 코드 작성 ##\n",
        "\n",
        "from sklearn.metrics import accuracy_score\n",
        "from sklearn import datasets, svm, metrics\n",
        "import matplotlib.pyplot as plt\n",
        "\n",
        "Carray = [1,10,50,100,200,300] # C 파라미터에 들어갈 값 정의\n",
        "\n",
        "score_list1 = []\n",
        "score_list2 = []\n",
        "\n",
        "for i in Carray:\n",
        "  svm_clf=svm.SVC(kernel='linear',C=i) #linear kernel\n",
        "\n",
        "  svm_clf.fit(X_train, y_train)\n",
        "\n",
        "  y_pred=svm_clf.predict(X_val)\n",
        "  score=accuracy_score(y_val,y_pred)\n",
        "  score_list1.append(score)\n",
        "#-------------------------------------------------------------\n",
        "  svm_clf=svm.SVC(kernel='rbf',C=i) #rbf kernel\n",
        "\n",
        "  svm_clf.fit(X_train, y_train)\n",
        "\n",
        "  y_pred=svm_clf.predict(X_val)\n",
        "  score=accuracy_score(y_val,y_pred)\n",
        "  score_list2.append(score)\n",
        "\n",
        "plt.plot(Carray,score_list1) #plot\n",
        "plt.plot(Carray,score_list2)\n",
        "\n",
        "plt.legend(['linear','rbf'])\n",
        "\n",
        "plt.xlabel('C')\n",
        "plt.ylabel('accuracy')\n",
        "\n",
        "plt.title(\"Graph\")\n",
        "\n",
        "plt.show()\n",
        "\n",
        "#최적의 파라미터로 test set 사용하기\n",
        "\n",
        "svm_clf=svm.SVC(kernel='linear',C=100)\n",
        "\n",
        "svm_clf.fit(X_train, y_train)\n",
        "\n",
        "y_pred=svm_clf.predict(X_test)\n",
        "print('linear, C=100 : accuracy = %.3f' %accuracy_score(y_test,y_pred))\n",
        "\n",
        "svm_clf=svm.SVC(kernel='rbf',C=50)\n",
        "\n",
        "svm_clf.fit(X_train, y_train)\n",
        "\n",
        "y_pred=svm_clf.predict(X_test)\n",
        "print('rbf, C=50 : accuracy = %.3f' %accuracy_score(y_test,y_pred))"
      ],
      "metadata": {
        "id": "zZdkdlyMeH_Y",
        "colab": {
          "base_uri": "https://localhost:8080/",
          "height": 332
        },
        "outputId": "45b1fdcc-53f8-4fef-d1b4-a0045625efc8"
      },
      "execution_count": 20,
      "outputs": [
        {
          "output_type": "display_data",
          "data": {
            "text/plain": [
              "<Figure size 432x288 with 1 Axes>"
            ],
            "image/png": "[encoded data removed]"
          },
          "metadata": {
            "needs_background": "light"
          }
        },
        {
          "output_type": "stream",
          "name": "stdout",
          "text": [
            "linear, C=100 : accuracy = 0.761\n",
            "rbf, C=50 : accuracy = 0.775\n"
          ]
        }
      ]
    },
    {
      "cell_type": "markdown",
      "source": [
        "**설명 작성**  \n",
        "- 최적의 파라미터: 'linear' kernel에 C=100, 'rbf' kener에 C=50\n",
        "- 설명: Linear kernel에서는 C=100, rbf kernel에서는 C=50일 때 가장 accuracy가 높게 책정되어 두 경우 모두 test set으로 검증해 보았다. "
      ],
      "metadata": {
        "id": "y47YT_IleHKq"
      }
    },
    {
      "cell_type": "markdown",
      "source": [
        "\n",
        "\n",
        "---\n",
        "\n"
      ],
      "metadata": {
        "id": "jFA8FPDKkjHC"
      }
    },
    {
      "cell_type": "markdown",
      "source": [
        "## 문제3 Cross validation with Random Forest\n",
        "### 3-1: k-fold\n",
        "- 수업시간에 배운 **5-fold** 를 이용하여 최적의 파라미터를 찾는다. (데이터는 동일)\n",
        "- 수업시간에 배운 random forest 모델의 파라미터를 cross-validation을 바탕으로 최적화한다.\n",
        "    - **5-fold CV를 할 때, test data를 제외한 90%의 데이터를 사용해야한다.**\n",
        "    - 파라미터에 따라 K-fold CV를 통해 나온 평균 정확도와 각 fold의 정확도들을 한 그래프로 그린다.(x축 선택한 파라미터, y축 정확도)\n",
        "    - 찾은 최적의 파라미터와 test set을 이용하여 test accuracy를 계산하고 기입한다.\n",
        "    - 최적의 파라미터를 찾은 것에 대한 설명을 '텍스트 셀'에 작성한다.\n",
        "\n",
        "### 3-2: Leave One Out\n",
        "- 수업시간에 배운 Leave-One-Out 를 이용하여 최적의 파라미터를 찾는다. (데이터는 동일)\n",
        "- 수업시간에 배운 random forest 모델의 파라미터를 cross-validation을 바탕으로 최적화한다.\n",
        "  - **Leave-One-Out CV를 할 때, test data를 제외한 90%의 데이터를 사용해야한다.**\n",
        "  - 파라미터에 따라 Leave-One-Out CV를 통해 나온 평균 정확도를 그래프로 그린다.(x축 선택한 파라미터, y축 정확도)\n",
        "  - 찾은 최적의 파라미터와 test set을 이용하여 test accuracy를 계산하고 기입한다.\n",
        "  - 최적의 파라미터를 찾은 것에 대한 설명을 '텍스트 셀'에 작성한다."
      ],
      "metadata": {
        "id": "cl1b3f3AaZUw"
      }
    },
    {
      "cell_type": "code",
      "source": [
        "### 문제 3-1 ###\n",
        "## 코드 작성 ##\n",
        "from sklearn.preprocessing import LabelEncoder\n",
        "from sklearn.model_selection import train_test_split \n",
        "from sklearn.feature_selection import SelectKBest, f_classif \n",
        "from sklearn.ensemble import RandomForestClassifier\n",
        "from sklearn.metrics import accuracy_score\n",
        "from sklearn.model_selection import GridSearchCV\n",
        "from sklearn.pipeline import Pipeline\n",
        "from sklearn.model_selection import cross_val_score\n",
        "\n",
        "X_train, X_test, y_train, y_test = train_test_split(X, y, test_size=0.1, random_state=1) # 1:9로 set split\n",
        "\n",
        "\n",
        "Parray = [2,3,5,10] #min_samples_split Array\n",
        "\n",
        "score_list = []\n",
        "\n",
        "for i in Parray: #random forest 학습 루프\n",
        "  rf_clf = RandomForestClassifier(random_state=1,min_samples_split=i)\n",
        "  scores = cross_val_score(rf_clf, X_train, y_train, cv=5)\n",
        "  score_list.append(scores.mean()) #Array에 평균 정확도 저장\n",
        "\n",
        "plt.plot(Parray,score_list) # plot\n",
        "\n",
        "plt.xlabel('min_samples_split')\n",
        "plt.ylabel('accuracy')\n",
        "\n",
        "plt.title(\"Graph\")\n",
        "\n",
        "plt.show()\n",
        "\n",
        "rf_clf = RandomForestClassifier(random_state=1,min_samples_split=10)\n",
        "\n",
        "rf_clf.fit(X_train, y_train)\n",
        "\n",
        "y_pred=rf_clf.predict(X_test) #test set 이용\n",
        "print('accuracy = %.3f' %accuracy_score(y_test,y_pred))\n"
      ],
      "metadata": {
        "id": "fYNny36efEF3",
        "colab": {
          "base_uri": "https://localhost:8080/",
          "height": 314
        },
        "outputId": "e34a2906-564f-453b-addb-10761c9237c3"
      },
      "execution_count": 56,
      "outputs": [
        {
          "output_type": "display_data",
          "data": {
            "text/plain": [
              "<Figure size 432x288 with 1 Axes>"
            ],
            "image/png": "[encoded data removed]"
          },
          "metadata": {
            "needs_background": "light"
          }
        },
        {
          "output_type": "stream",
          "name": "stdout",
          "text": [
            "accuracy = 0.732\n"
          ]
        }
      ]
    },
    {
      "cell_type": "markdown",
      "source": [
        "**설명 작성**  \n",
        "- test accuracy: 0.732\n",
        "- 최적의 파라미터: min_samples_split = 10\n",
        "- 설명: 노드를 분할하기 위한 최소한의 샘플 데이터수인 min_samples_split에 따라 최적화 하였다.\n",
        "\n"
      ],
      "metadata": {
        "id": "2xvEdCHAfH0g"
      }
    },
    {
      "cell_type": "code",
      "source": [
        "### 문제 3-2 ###\n",
        "## 코드 작성 ##\n",
        "\n",
        "from sklearn.model_selection import LeaveOneOut\n",
        "\n",
        "Parray = [2,3,5] #min_samples_split Array\n",
        "\n",
        "score_list = []\n",
        "\n",
        "\n",
        "for i in Parray:#random forest 학습 루프\n",
        "  rf_clf = RandomForestClassifier(random_state=1,min_samples_split=i)\n",
        "  cv=LeaveOneOut()\n",
        "  scores = cross_val_score(rf_clf, X_train, y_train, cv=cv) #LOOCV (cv=LeaveOneOut())\n",
        "  score_list.append(scores.mean())#Array에 평균 정확도 저장\n",
        "\n",
        "plt.plot(Parray,score_list) # plot\n",
        "\n",
        "plt.xlabel('min_samples_split')\n",
        "plt.ylabel('accuracy')\n",
        "\n",
        "plt.title(\"Graph\")\n",
        "\n",
        "plt.show()\n",
        "\n",
        "rf_clf = RandomForestClassifier(random_state=1,min_samples_split=5)\n",
        "\n",
        "rf_clf.fit(X_train, y_train)\n",
        "\n",
        "y_pred=rf_clf.predict(X_test) #test set 이용\n",
        "print('accuracy = %.3f' %accuracy_score(y_test,y_pred))"
      ],
      "metadata": {
        "id": "80a5iRmvfG6H",
        "colab": {
          "base_uri": "https://localhost:8080/",
          "height": 314
        },
        "outputId": "9d038cc0-5c1c-4c50-85d6-a65f14bb8924"
      },
      "execution_count": 57,
      "outputs": [
        {
          "output_type": "display_data",
          "data": {
            "text/plain": [
              "<Figure size 432x288 with 1 Axes>"
            ],
            "image/png": "[encoded data removed]"
          },
          "metadata": {
            "needs_background": "light"
          }
        },
        {
          "output_type": "stream",
          "name": "stdout",
          "text": [
            "accuracy = 0.732\n"
          ]
        }
      ]
    },
    {
      "cell_type": "markdown",
      "source": [
        "**설명 작성**  \n",
        "- test accuracy: 0.732\n",
        "- 최적의 파라미터: min_samples_split = 5\n",
        "- 설명: 노드를 분할하기 위한 최소한의 샘플 데이터수인 min_samples_split에 따라 최적화 하였다. 실행 시간이 오래 걸려 파라미터는 2,3,5 만 테스트 하였다."
      ],
      "metadata": {
        "id": "m9BqByTFfLIG"
      }
    },
    {
      "cell_type": "markdown",
      "source": [
        "\n",
        "\n",
        "---\n",
        "\n"
      ],
      "metadata": {
        "id": "BlvQjbXJkllk"
      }
    },
    {
      "cell_type": "markdown",
      "source": [
        "## 문제4 Regression\n",
        "문제 4 에서는 캘리포니아 주택 가격 데이터셋을 사용합니다.   \n",
        "학습을 통해 주택 가격을 예측하는 문제입니다.  \n",
        "데이터에 대한 자세한 설명은 아래 코드의 description을 참고해주세요."
      ],
      "metadata": {
        "id": "szX5GgcXfnM1"
      }
    },
    {
      "cell_type": "code",
      "source": [
        "from sklearn.datasets import fetch_california_housing\n",
        "housing = fetch_california_housing()\n",
        "print(housing.DESCR)"
      ],
      "metadata": {
        "colab": {
          "base_uri": "https://localhost:8080/"
        },
        "id": "v7mbmrTRinak",
        "outputId": "15461968-c7b1-4d1a-a137-af6d4740f5af"
      },
      "execution_count": 58,
      "outputs": [
        {
          "output_type": "stream",
          "name": "stdout",
          "text": [
            ".. _california_housing_dataset:\n",
            "\n",
            "California Housing dataset\n",
            "--------------------------\n",
            "\n",
            "**Data Set Characteristics:**\n",
            "\n",
            "    :Number of Instances: 20640\n",
            "\n",
            "    :Number of Attributes: 8 numeric, predictive attributes and the target\n",
            "\n",
            "    :Attribute Information:\n",
            "        - MedInc        median income in block group\n",
            "        - HouseAge      median house age in block group\n",
            "        - AveRooms      average number of rooms per household\n",
            "        - AveBedrms     average number of bedrooms per household\n",
            "        - Population    block group population\n",
            "        - AveOccup      average number of household members\n",
            "        - Latitude      block group latitude\n",
            "        - Longitude     block group longitude\n",
            "\n",
            "    :Missing Attribute Values: None\n",
            "\n",
            "This dataset was obtained from the StatLib repository.\n",
            "https://www.dcc.fc.up.pt/~ltorgo/Regression/cal_housing.html\n",
            "\n",
            "The target variable is the median house value for California districts,\n",
            "expressed in hundreds of thousands of dollars ($100,000).\n",
            "\n",
            "This dataset was derived from the 1990 U.S. census, using one row per census\n",
            "block group. A block group is the smallest geographical unit for which the U.S.\n",
            "Census Bureau publishes sample data (a block group typically has a population\n",
            "of 600 to 3,000 people).\n",
            "\n",
            "An household is a group of people residing within a home. Since the average\n",
            "number of rooms and bedrooms in this dataset are provided per household, these\n",
            "columns may take surpinsingly large values for block groups with few households\n",
            "and many empty houses, such as vacation resorts.\n",
            "\n",
            "It can be downloaded/loaded using the\n",
            ":func:`sklearn.datasets.fetch_california_housing` function.\n",
            "\n",
            ".. topic:: References\n",
            "\n",
            "    - Pace, R. Kelley and Ronald Barry, Sparse Spatial Autoregressions,\n",
            "      Statistics and Probability Letters, 33 (1997) 291-297\n",
            "\n"
          ]
        }
      ]
    },
    {
      "cell_type": "code",
      "source": [
        "df = pd.DataFrame(housing.data, columns=housing.feature_names)\n",
        "df['target'] = housing.target"
      ],
      "metadata": {
        "id": "beqDbNzQi0PR"
      },
      "execution_count": 59,
      "outputs": []
    },
    {
      "cell_type": "code",
      "source": [
        "print(df.head())"
      ],
      "metadata": {
        "colab": {
          "base_uri": "https://localhost:8080/"
        },
        "id": "Y-4fgqWCkd-o",
        "outputId": "7239eeef-6b2a-408c-dd27-0bd7f93be25b"
      },
      "execution_count": 60,
      "outputs": [
        {
          "output_type": "stream",
          "name": "stdout",
          "text": [
            "   MedInc  HouseAge  AveRooms  AveBedrms  Population  AveOccup  Latitude  \\\n",
            "0  8.3252      41.0  6.984127   1.023810       322.0  2.555556     37.88   \n",
            "1  8.3014      21.0  6.238137   0.971880      2401.0  2.109842     37.86   \n",
            "2  7.2574      52.0  8.288136   1.073446       496.0  2.802260     37.85   \n",
            "3  5.6431      52.0  5.817352   1.073059       558.0  2.547945     37.85   \n",
            "4  3.8462      52.0  6.281853   1.081081       565.0  2.181467     37.85   \n",
            "\n",
            "   Longitude  target  \n",
            "0    -122.23   4.526  \n",
            "1    -122.22   3.585  \n",
            "2    -122.24   3.521  \n",
            "3    -122.25   3.413  \n",
            "4    -122.25   3.422  \n"
          ]
        }
      ]
    },
    {
      "cell_type": "code",
      "source": [
        "print(df.shape) #(20640, 9)\n",
        "print(df.describe())"
      ],
      "metadata": {
        "colab": {
          "base_uri": "https://localhost:8080/"
        },
        "id": "zoUn3ZXdkimJ",
        "outputId": "ad705c94-04b4-432e-860f-6dc60b94f8aa"
      },
      "execution_count": 61,
      "outputs": [
        {
          "output_type": "stream",
          "name": "stdout",
          "text": [
            "(20640, 9)\n",
            "             MedInc      HouseAge      AveRooms     AveBedrms    Population  \\\n",
            "count  20640.000000  20640.000000  20640.000000  20640.000000  20640.000000   \n",
            "mean       3.870671     28.639486      5.429000      1.096675   1425.476744   \n",
            "std        1.899822     12.585558      2.474173      0.473911   1132.462122   \n",
            "min        0.499900      1.000000      0.846154      0.333333      3.000000   \n",
            "25%        2.563400     18.000000      4.440716      1.006079    787.000000   \n",
            "50%        3.534800     29.000000      5.229129      1.048780   1166.000000   \n",
            "75%        4.743250     37.000000      6.052381      1.099526   1725.000000   \n",
            "max       15.000100     52.000000    141.909091     34.066667  35682.000000   \n",
            "\n",
            "           AveOccup      Latitude     Longitude        target  \n",
            "count  20640.000000  20640.000000  20640.000000  20640.000000  \n",
            "mean       3.070655     35.631861   -119.569704      2.068558  \n",
            "std       10.386050      2.135952      2.003532      1.153956  \n",
            "min        0.692308     32.540000   -124.350000      0.149990  \n",
            "25%        2.429741     33.930000   -121.800000      1.196000  \n",
            "50%        2.818116     34.260000   -118.490000      1.797000  \n",
            "75%        3.282261     37.710000   -118.010000      2.647250  \n",
            "max     1243.333333     41.950000   -114.310000      5.000010  \n"
          ]
        }
      ]
    },
    {
      "cell_type": "markdown",
      "source": [
        "### 문제 4-1 : Pearson Correlation\n",
        "- seaborn 패키지를 사용하여 pearson correlation heatmap을 그린다.\n",
        "- heatmap을 확인한 후 각 feature들 간 어떠한 관계가 있는지 아래의 텍스트 셀에 서술한다.    \n",
        "- target과 연관성이 높은 feature의 column들을 아래의 텍스트 셀에 기술한다.\n",
        "- 기술한 columns들과 target column을 포함하여 DataFrame을 만들고 **이후 모든 문제에서는 이 DataFrame을 사용한다**."
      ],
      "metadata": {
        "id": "G3_Z_2mO7WkB"
      }
    },
    {
      "cell_type": "code",
      "source": [
        "### 문제 4-1 ###\n",
        "# correlation map 작성 후 plot\n",
        "\n",
        "import pandas as pd\n",
        "import numpy as np\n",
        "import matplotlib.pyplot as plt\n",
        "import seaborn as sns\n",
        "\n",
        "\n",
        "# Correlation between different variables\n",
        "#\n",
        "corr = df.corr()\n",
        "#\n",
        "# Set up the matplotlib plot configuration\n",
        "#\n",
        "f, ax = plt.subplots(figsize=(12, 10))\n",
        "#\n",
        "# Generate a mask for upper traingle\n",
        "#\n",
        "mask = np.triu(np.ones_like(corr, dtype=bool))\n",
        "#\n",
        "# Configure a custom diverging colormap\n",
        "#\n",
        "cmap = sns.diverging_palette(230, 20, as_cmap=True)\n",
        "#\n",
        "# Draw the heatmap\n",
        "#\n",
        "sns.heatmap(corr, annot=True, mask = mask, cmap=cmap,linewidths=.5)"
      ],
      "metadata": {
        "id": "3YiBgTBYFlOs",
        "colab": {
          "base_uri": "https://localhost:8080/",
          "height": 610
        },
        "outputId": "c53a2437-18ea-41a6-a847-de4713a3cce9"
      },
      "execution_count": 63,
      "outputs": [
        {
          "output_type": "execute_result",
          "data": {
            "text/plain": [
              "<matplotlib.axes._subplots.AxesSubplot at 0x7f79459c6510>"
            ]
          },
          "metadata": {},
          "execution_count": 63
        },
        {
          "output_type": "display_data",
          "data": {
            "text/plain": [
              "<Figure size 864x720 with 2 Axes>"
            ],
            "image/png": "[encoded data removed]"
          },
          "metadata": {
            "needs_background": "light"
          }
        }
      ]
    },
    {
      "cell_type": "markdown",
      "source": [
        "- **Feature들 간 관계 서술**  \n",
        "  * AveRooms와 AveBedrms는 강한 양의 선형 관계가 있다.\n",
        "  * AveRooms와 AveBedrms는 강한 양의 선형 관계가 있다.\n",
        "  * Target과 MedInc는 뚜렷한 양의 선형 관계가 있다.\n",
        "  * Target과 HouseAge, AveRooms는 약한 양의 선형 관계가 있다.\n",
        "  * Target과 Latitude는 약한 음의 선형 관계가 있다.\n",
        "\n",
        "- **최종 선택한 feature들**  \n",
        "  답: MedInc, HouseAge, AveRooms, Latitude"
      ],
      "metadata": {
        "id": "onkXpOqZ_Aal"
      }
    },
    {
      "cell_type": "code",
      "source": [
        "### 문제 4-1 ###\n",
        "# 새 dataframe 만들기\n",
        "\n",
        "n_df = df[['MedInc','HouseAge','AveRooms','Latitude','target']] #data frame columns추출\n",
        "\n",
        "\n",
        "print(n_df.head())"
      ],
      "metadata": {
        "id": "GDXuxL65j7Gy",
        "colab": {
          "base_uri": "https://localhost:8080/"
        },
        "outputId": "ffb510b7-302c-40f4-cc72-0a92a2d2e8fd"
      },
      "execution_count": 90,
      "outputs": [
        {
          "output_type": "stream",
          "name": "stdout",
          "text": [
            "   MedInc  HouseAge  AveRooms  Latitude  target\n",
            "0  8.3252      41.0  6.984127     37.88   4.526\n",
            "1  8.3014      21.0  6.238137     37.86   3.585\n",
            "2  7.2574      52.0  8.288136     37.85   3.521\n",
            "3  5.6431      52.0  5.817352     37.85   3.413\n",
            "4  3.8462      52.0  6.281853     37.85   3.422\n"
          ]
        }
      ]
    },
    {
      "cell_type": "markdown",
      "source": [
        "### 문제 4-2: MSE, r2 score\n",
        "- Scikit-learn 라이브러리의 LinearRegression 모델을 사용한다.\n",
        "- train data는 test data를 제외한 **90%의 데이터를 사용**해야한다.\n",
        "- **Mean Square Error(MSE)**와 **r2 score**를 사용하여 train set에 대한 prediction 결과와 test set에 대한 prediction 결과를 구해 print 한다.\n",
        "- Prediction 결과를 바탕으로 학습한 LinearRegression 모델의 overfit, underfit 여부와 판단 근거를 텍스트 셀에 서술한다."
      ],
      "metadata": {
        "id": "uMo7ufW3_TXX"
      }
    },
    {
      "cell_type": "code",
      "source": [
        "### 문제 4-2 ###\n",
        "## 코드 작성 ##\n",
        "\n",
        "from sklearn.linear_model import LinearRegression\n",
        "from sklearn.metrics import mean_squared_error\n",
        "from sklearn.metrics import r2_score\n",
        "\n",
        "\n",
        "X = n_df.drop('target', axis=1)\n",
        "y = n_df['target']\n",
        "\n",
        "X_train, X_test, y_train, y_test = train_test_split(X, y, test_size=0.1, random_state=42)\n",
        "\n",
        "line_model = LinearRegression()\n",
        "line_model.fit(X_train, y_train)\n",
        "\n",
        "y_pred = line_model.predict(X_train)\n",
        "train_pred_MSE=mean_squared_error(y_pred, y_train, squared = True)\n",
        "train_pred_r2=r2_score(y_train, y_pred)\n",
        "\n",
        "y_pred = line_model.predict(X_test)\n",
        "test_pred_MSE=mean_squared_error(y_pred, y_test, squared = True)\n",
        "test_pred_r2=r2_score(y_test, y_pred)\n",
        "\n",
        "print('MSE train set prediction 결과 : ',train_pred_MSE)\n",
        "print('MSE test set prediction 결과 : ',test_pred_MSE)\n",
        "print('r2 score train set prediction 결과 : ',train_pred_r2)\n",
        "print('r2 score test set prediction 결과 : ',test_pred_r2)"
      ],
      "metadata": {
        "id": "UgKvcwQXCLhx",
        "colab": {
          "base_uri": "https://localhost:8080/"
        },
        "outputId": "1fd0f0d2-e243-4f5f-88a5-835df06f3e47"
      },
      "execution_count": 101,
      "outputs": [
        {
          "output_type": "stream",
          "name": "stdout",
          "text": [
            "MSE train set prediction 결과 :  0.6365198439281669\n",
            "MSE test set prediction 결과 :  0.6767490261698378\n",
            "r2 score train set prediction 결과 :  0.521888700012028\n",
            "r2 score test set prediction 결과 :  0.49254328298950123\n"
          ]
        }
      ]
    },
    {
      "cell_type": "markdown",
      "source": [
        "**Prediction 결과를 바탕으로 학습한 LinearRegression 모델의 overfit, underfit 여부와 판단 근거를 서술**   \n",
        "답: train set prediction 결과와 test set prediction 결과가 근소한 차이로 같기 때문에 overfit과 underfit이 거의 없다고 볼 수 있다."
      ],
      "metadata": {
        "id": "rcgD51UhEKOE"
      }
    },
    {
      "cell_type": "markdown",
      "source": [
        "### 문제 4-3: Regularized Model\n",
        "- Scikit-learn 라이브러리를 사용하여 Ridge Regression과 Lasso Regression 모델을 만든다.\n",
        "- train : validation : test **데이터셋의 비율을 8:1:1**로 설정한다.\n",
        "- 다양한 alpha 값에 대해 validation dataset을 사용하여 각 모델에 대한 **최적의 alpha 값을 찾고 찾은 최적의 alpha 값을 텍스트 셀에 작성**한다.\n",
        "- alpha 값은 아래의 리스트를 사용한다.  \n",
        "```alpha = [0.0001, 0.001,0.01,0.1,10]```\n",
        "- alpha 값에 대한 R2 score의 변화를 그래프로 나타낸다.\n",
        "  * **x축: alpha 값**\n",
        "  * **y축: R2 score 값**\n",
        "  * 파란색 선: Ridge 결과, 빨간색 선: Lasso 결과\n",
        "  * 그래프에 **legend**가 포함되어 있어야 한다. \n",
        "- **train과 validation dataset을 합하여 train set을 만든 후 최종 학습 결과를 도출**한다.\n",
        "  * 최적의 alpha 값을 찾을 때 사용한 test set은 변하지 않는다. \n",
        "  * r2 score를 사용하여 train set에 대한 prediction 결과와 test set에 대한 prediction 결과를 구해 print 한다."
      ],
      "metadata": {
        "id": "0OGUhsrgEwR_"
      }
    },
    {
      "cell_type": "code",
      "source": [
        "### 문제 4-3 ###\n",
        "## 코드 작성 ##\n",
        "\n",
        "X_train, X_val, y_train, y_val = train_test_split(X_train, y_train, test_size=1/9, random_state=42) ## 8:8:1 로 split\n",
        "\n",
        "\n",
        "from sklearn.linear_model import Ridge, RidgeCV, Lasso, LassoCV, ElasticNet,ElasticNetCV\n",
        "from sklearn.metrics import mean_squared_error\n",
        "\n",
        "\n",
        "alpha = [0.0001, 0.001,0.01,0.1,10]\n",
        "\n",
        "score_list1 = []\n",
        "score_list2 = []\n",
        "\n",
        "# Ridge Regression\n",
        "\n",
        "for i in alpha:\n",
        "  model = Ridge(alpha=i).fit(X_train,y_train)\n",
        "\n",
        "  y_pred = model.predict(X_val)\n",
        "\n",
        "  score=r2_score(y_val, y_pred)\n",
        "  score_list1.append(score)\n",
        "\n",
        "# Lasso Regression\n",
        "\n",
        "for i in alpha:\n",
        "  model = Lasso(alpha=i).fit(X_train,y_train)\n",
        "\n",
        "  y_pred = model.predict(X_val)\n",
        "\n",
        "  score=r2_score(y_val, y_pred)\n",
        "  score_list2.append(score)\n",
        "\n",
        "\n"
      ],
      "metadata": {
        "id": "5XHRyFjsZyJ5"
      },
      "execution_count": 102,
      "outputs": []
    },
    {
      "cell_type": "code",
      "source": [
        "### 문제 4-3 ###\n",
        "## 그래프 작성 ##\n",
        "\n",
        "plt.plot(alpha,score_list1)\n",
        "plt.plot(alpha,score_list2)\n",
        "\n",
        "plt.legend(['Ridge','Lasso'])\n",
        "\n",
        "plt.xlabel('alpha')\n",
        "plt.ylabel('r2_score')\n",
        "\n",
        "plt.title(\"Graph\")\n",
        "\n",
        "plt.show()"
      ],
      "metadata": {
        "id": "2ZJbj9r2Z4LP",
        "colab": {
          "base_uri": "https://localhost:8080/",
          "height": 295
        },
        "outputId": "a1ec809f-18ea-45e9-8ab4-305509804736"
      },
      "execution_count": 103,
      "outputs": [
        {
          "output_type": "display_data",
          "data": {
            "text/plain": [
              "<Figure size 432x288 with 1 Axes>"
            ],
            "image/png": "[encoded data removed]"
          },
          "metadata": {
            "needs_background": "light"
          }
        }
      ]
    },
    {
      "cell_type": "markdown",
      "source": [
        "- Rridge regression 모델 최적의 alpha 값: 모두 같았다.\n",
        "- Lasso regression 모델 최적의 alpha 값: 0.0001"
      ],
      "metadata": {
        "id": "DS8x1JmkZ6Yl"
      }
    },
    {
      "cell_type": "code",
      "source": [
        "### 문제 4-3 ###\n",
        "# 최종 결과 출력\n",
        "\n",
        "#train set과 val set 합치기\n",
        "nX_train=pd.concat([X_train,X_val])\n",
        "ny_train=pd.concat([y_train,y_val])\n",
        "\n",
        "model = Lasso(alpha=0.0001).fit(nX_train,ny_train)\n",
        "y_pred = model.predict(X_test)\n",
        "\n",
        "score=r2_score(y_test, y_pred)\n",
        "print(score)\n"
      ],
      "metadata": {
        "id": "zio0ZtfdiXCF",
        "colab": {
          "base_uri": "https://localhost:8080/"
        },
        "outputId": "7c201144-b285-4818-d3da-811eba31ff04"
      },
      "execution_count": 104,
      "outputs": [
        {
          "output_type": "stream",
          "name": "stdout",
          "text": [
            "0.4925473091950594\n"
          ]
        }
      ]
    }
  ]
}